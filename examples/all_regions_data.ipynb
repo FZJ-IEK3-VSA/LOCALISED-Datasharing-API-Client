{
 "cells": [
  {
   "cell_type": "markdown",
   "id": "7e705812",
   "metadata": {},
   "source": [
    "### Example script - shows how to use this API client to access a single variable data for all regions at a specified resolution, in a specified country."
   ]
  },
  {
   "cell_type": "markdown",
   "id": "b04c93ca",
   "metadata": {},
   "source": [
    "#### Load required libraries"
   ]
  },
  {
   "cell_type": "code",
   "execution_count": 1,
   "id": "30e6e6e9",
   "metadata": {},
   "outputs": [],
   "source": [
    "import os\n",
    "from dotenv import load_dotenv, find_dotenv\n",
    "from zoomin_client import client"
   ]
  },
  {
   "cell_type": "markdown",
   "id": "91f100b5",
   "metadata": {},
   "source": [
    "#### Declare api_key variable\n",
    "The secret api key is a must-have to access the data. \n",
    "Please replace the code in the below cell to:\n",
    "\n",
    "```api_key = <secret_key_that_was_shared_in_the_email>```"
   ]
  },
  {
   "cell_type": "code",
   "execution_count": 2,
   "id": "446199c1",
   "metadata": {},
   "outputs": [],
   "source": [
    "# find .env automagically by walking up directories until it's found\n",
    "dotenv_path = find_dotenv()\n",
    "# load up the entries as environment variables\n",
    "load_dotenv(dotenv_path)\n",
    "\n",
    "api_key = os.environ.get(\"SECRET_API_KEY\")"
   ]
  },
  {
   "cell_type": "markdown",
   "id": "9bf16262",
   "metadata": {},
   "source": [
    "#### Get metadata"
   ]
  },
  {
   "cell_type": "code",
   "execution_count": 7,
   "id": "82c0e062",
   "metadata": {},
   "outputs": [],
   "source": [
    "var_metadata = client.get_variable_metadata(api_key=api_key, \n",
    "                                            country_code=\"de\",\n",
    "                                            variable=\"population\",\n",
    "                                )"
   ]
  },
  {
   "cell_type": "code",
   "execution_count": 8,
   "id": "7f7221f0",
   "metadata": {},
   "outputs": [
    {
     "data": {
      "text/plain": [
       "{'var_name': 'population',\n",
       " 'var_description': None,\n",
       " 'var_unit': 'number',\n",
       " 'var_aggregation_method': 'sum',\n",
       " 'taggings': [{'tag_dimension': 'sector', 'tag_name': 'general stat'},\n",
       "  {'tag_dimension': 'type', 'tag_name': 'stock'},\n",
       "  {'tag_dimension': 'commodity', 'tag_name': 'not applicable'},\n",
       "  {'tag_dimension': 'resource', 'tag_name': 'not applicable'},\n",
       "  {'tag_dimension': 'link', 'tag_name': 'not applicable'},\n",
       "  {'tag_dimension': 'other', 'tag_name': 'total'}],\n",
       " 'calculation_equation': None}"
      ]
     },
     "execution_count": 8,
     "metadata": {},
     "output_type": "execute_result"
    }
   ],
   "source": [
    "var_metadata"
   ]
  },
  {
   "cell_type": "markdown",
   "id": "3b4ebce9",
   "metadata": {},
   "source": [
    "#### Get data"
   ]
  },
  {
   "cell_type": "code",
   "execution_count": 11,
   "id": "73caf789",
   "metadata": {},
   "outputs": [
    {
     "name": "stdout",
     "output_type": "stream",
     "text": [
      "http://data.localised-project.eu/dsp/v1/de/variable_data/?api_key=BpY.8TzqJ&resolution=NUTS3&variable=population\n"
     ]
    },
    {
     "name": "stderr",
     "output_type": "stream",
     "text": [
      "INFO:utils:Elapsed time for <function get_variable_data at 0x0000022961764040>: 0.01 minutes\n"
     ]
    }
   ],
   "source": [
    "result_data = client.get_variable_data(api_key=api_key, \n",
    "                                       country_code=\"de\",\n",
    "                                variable=\"population\",\n",
    "                                spatial_resolution=\"NUTS3\",\n",
    "                                result_format=\"df\",\n",
    "                                      )"
   ]
  },
  {
   "cell_type": "code",
   "execution_count": 12,
   "id": "c44bd695",
   "metadata": {},
   "outputs": [
    {
     "data": {
      "text/html": [
       "<div>\n",
       "<style scoped>\n",
       "    .dataframe tbody tr th:only-of-type {\n",
       "        vertical-align: middle;\n",
       "    }\n",
       "\n",
       "    .dataframe tbody tr th {\n",
       "        vertical-align: top;\n",
       "    }\n",
       "\n",
       "    .dataframe thead th {\n",
       "        text-align: right;\n",
       "    }\n",
       "</style>\n",
       "<table border=\"1\" class=\"dataframe\">\n",
       "  <thead>\n",
       "    <tr style=\"text-align: right;\">\n",
       "      <th></th>\n",
       "      <th>value</th>\n",
       "      <th>year</th>\n",
       "      <th>region_code</th>\n",
       "      <th>pathway_file_name</th>\n",
       "      <th>climate_experiment</th>\n",
       "      <th>quality_rating</th>\n",
       "      <th>disaggregation_binary_criteria</th>\n",
       "      <th>disaggregation_proxy</th>\n",
       "      <th>disaggregation_quality_rating</th>\n",
       "    </tr>\n",
       "  </thead>\n",
       "  <tbody>\n",
       "    <tr>\n",
       "      <th>0</th>\n",
       "      <td>1853935.0</td>\n",
       "      <td>2022</td>\n",
       "      <td>DE600</td>\n",
       "      <td>None</td>\n",
       "      <td>None</td>\n",
       "      <td>VERY HIGH</td>\n",
       "      <td>None</td>\n",
       "      <td>Disaggregation using random forest model. Top ...</td>\n",
       "      <td>3</td>\n",
       "    </tr>\n",
       "    <tr>\n",
       "      <th>1</th>\n",
       "      <td>159631.0</td>\n",
       "      <td>2022</td>\n",
       "      <td>DE711</td>\n",
       "      <td>None</td>\n",
       "      <td>None</td>\n",
       "      <td>VERY HIGH</td>\n",
       "      <td>None</td>\n",
       "      <td>Disaggregation using random forest model. Top ...</td>\n",
       "      <td>3</td>\n",
       "    </tr>\n",
       "    <tr>\n",
       "      <th>2</th>\n",
       "      <td>759224.0</td>\n",
       "      <td>2022</td>\n",
       "      <td>DE712</td>\n",
       "      <td>None</td>\n",
       "      <td>None</td>\n",
       "      <td>VERY HIGH</td>\n",
       "      <td>None</td>\n",
       "      <td>Disaggregation using random forest model. Top ...</td>\n",
       "      <td>3</td>\n",
       "    </tr>\n",
       "    <tr>\n",
       "      <th>3</th>\n",
       "      <td>131295.0</td>\n",
       "      <td>2022</td>\n",
       "      <td>DE713</td>\n",
       "      <td>None</td>\n",
       "      <td>None</td>\n",
       "      <td>VERY HIGH</td>\n",
       "      <td>None</td>\n",
       "      <td>Disaggregation using random forest model. Top ...</td>\n",
       "      <td>3</td>\n",
       "    </tr>\n",
       "    <tr>\n",
       "      <th>4</th>\n",
       "      <td>278950.0</td>\n",
       "      <td>2022</td>\n",
       "      <td>DE714</td>\n",
       "      <td>None</td>\n",
       "      <td>None</td>\n",
       "      <td>VERY HIGH</td>\n",
       "      <td>None</td>\n",
       "      <td>Disaggregation using random forest model. Top ...</td>\n",
       "      <td>3</td>\n",
       "    </tr>\n",
       "    <tr>\n",
       "      <th>...</th>\n",
       "      <td>...</td>\n",
       "      <td>...</td>\n",
       "      <td>...</td>\n",
       "      <td>...</td>\n",
       "      <td>...</td>\n",
       "      <td>...</td>\n",
       "      <td>...</td>\n",
       "      <td>...</td>\n",
       "      <td>...</td>\n",
       "    </tr>\n",
       "    <tr>\n",
       "      <th>396</th>\n",
       "      <td>130843.0</td>\n",
       "      <td>2022</td>\n",
       "      <td>DEF0E</td>\n",
       "      <td>None</td>\n",
       "      <td>None</td>\n",
       "      <td>VERY HIGH</td>\n",
       "      <td>None</td>\n",
       "      <td>Disaggregation using random forest model. Top ...</td>\n",
       "      <td>3</td>\n",
       "    </tr>\n",
       "    <tr>\n",
       "      <th>397</th>\n",
       "      <td>245406.0</td>\n",
       "      <td>2022</td>\n",
       "      <td>DEF0F</td>\n",
       "      <td>None</td>\n",
       "      <td>None</td>\n",
       "      <td>VERY HIGH</td>\n",
       "      <td>None</td>\n",
       "      <td>Disaggregation using random forest model. Top ...</td>\n",
       "      <td>3</td>\n",
       "    </tr>\n",
       "    <tr>\n",
       "      <th>398</th>\n",
       "      <td>96102.0</td>\n",
       "      <td>2022</td>\n",
       "      <td>DEG0L</td>\n",
       "      <td>None</td>\n",
       "      <td>None</td>\n",
       "      <td>VERY HIGH</td>\n",
       "      <td>None</td>\n",
       "      <td>Disaggregation using random forest model. Top ...</td>\n",
       "      <td>3</td>\n",
       "    </tr>\n",
       "    <tr>\n",
       "      <th>399</th>\n",
       "      <td>87807.0</td>\n",
       "      <td>2022</td>\n",
       "      <td>DEG0M</td>\n",
       "      <td>None</td>\n",
       "      <td>None</td>\n",
       "      <td>VERY HIGH</td>\n",
       "      <td>None</td>\n",
       "      <td>Disaggregation using random forest model. Top ...</td>\n",
       "      <td>3</td>\n",
       "    </tr>\n",
       "    <tr>\n",
       "      <th>400</th>\n",
       "      <td>41806.0</td>\n",
       "      <td>2022</td>\n",
       "      <td>DEG0N</td>\n",
       "      <td>None</td>\n",
       "      <td>None</td>\n",
       "      <td>VERY HIGH</td>\n",
       "      <td>None</td>\n",
       "      <td>Disaggregation using random forest model. Top ...</td>\n",
       "      <td>3</td>\n",
       "    </tr>\n",
       "  </tbody>\n",
       "</table>\n",
       "<p>401 rows × 9 columns</p>\n",
       "</div>"
      ],
      "text/plain": [
       "         value  year region_code pathway_file_name climate_experiment  \\\n",
       "0    1853935.0  2022       DE600              None               None   \n",
       "1     159631.0  2022       DE711              None               None   \n",
       "2     759224.0  2022       DE712              None               None   \n",
       "3     131295.0  2022       DE713              None               None   \n",
       "4     278950.0  2022       DE714              None               None   \n",
       "..         ...   ...         ...               ...                ...   \n",
       "396   130843.0  2022       DEF0E              None               None   \n",
       "397   245406.0  2022       DEF0F              None               None   \n",
       "398    96102.0  2022       DEG0L              None               None   \n",
       "399    87807.0  2022       DEG0M              None               None   \n",
       "400    41806.0  2022       DEG0N              None               None   \n",
       "\n",
       "    quality_rating disaggregation_binary_criteria  \\\n",
       "0        VERY HIGH                           None   \n",
       "1        VERY HIGH                           None   \n",
       "2        VERY HIGH                           None   \n",
       "3        VERY HIGH                           None   \n",
       "4        VERY HIGH                           None   \n",
       "..             ...                            ...   \n",
       "396      VERY HIGH                           None   \n",
       "397      VERY HIGH                           None   \n",
       "398      VERY HIGH                           None   \n",
       "399      VERY HIGH                           None   \n",
       "400      VERY HIGH                           None   \n",
       "\n",
       "                                  disaggregation_proxy  \\\n",
       "0    Disaggregation using random forest model. Top ...   \n",
       "1    Disaggregation using random forest model. Top ...   \n",
       "2    Disaggregation using random forest model. Top ...   \n",
       "3    Disaggregation using random forest model. Top ...   \n",
       "4    Disaggregation using random forest model. Top ...   \n",
       "..                                                 ...   \n",
       "396  Disaggregation using random forest model. Top ...   \n",
       "397  Disaggregation using random forest model. Top ...   \n",
       "398  Disaggregation using random forest model. Top ...   \n",
       "399  Disaggregation using random forest model. Top ...   \n",
       "400  Disaggregation using random forest model. Top ...   \n",
       "\n",
       "     disaggregation_quality_rating  \n",
       "0                                3  \n",
       "1                                3  \n",
       "2                                3  \n",
       "3                                3  \n",
       "4                                3  \n",
       "..                             ...  \n",
       "396                              3  \n",
       "397                              3  \n",
       "398                              3  \n",
       "399                              3  \n",
       "400                              3  \n",
       "\n",
       "[401 rows x 9 columns]"
      ]
     },
     "execution_count": 12,
     "metadata": {},
     "output_type": "execute_result"
    }
   ],
   "source": [
    "result_data"
   ]
  },
  {
   "cell_type": "code",
   "execution_count": null,
   "id": "64ad1a22",
   "metadata": {},
   "outputs": [],
   "source": []
  }
 ],
 "metadata": {
  "kernelspec": {
   "display_name": "Python 3 (ipykernel)",
   "language": "python",
   "name": "python3"
  },
  "language_info": {
   "codemirror_mode": {
    "name": "ipython",
    "version": 3
   },
   "file_extension": ".py",
   "mimetype": "text/x-python",
   "name": "python",
   "nbconvert_exporter": "python",
   "pygments_lexer": "ipython3",
   "version": "3.11.8"
  }
 },
 "nbformat": 4,
 "nbformat_minor": 5
}
