{
 "cells": [
  {
   "cell_type": "markdown",
   "id": "7e705812",
   "metadata": {},
   "source": [
    "### Example script - shows how to use this API client to access a single variable data for all regions at a specified resolution, in a specified country."
   ]
  },
  {
   "cell_type": "markdown",
   "id": "b04c93ca",
   "metadata": {},
   "source": [
    "#### Load required libraries"
   ]
  },
  {
   "cell_type": "code",
   "execution_count": 1,
   "id": "30e6e6e9",
   "metadata": {},
   "outputs": [],
   "source": [
    "import os\n",
    "from dotenv import load_dotenv, find_dotenv\n",
    "from zoomin_client import client"
   ]
  },
  {
   "cell_type": "markdown",
   "id": "91f100b5",
   "metadata": {},
   "source": [
    "#### Declare api_key variable\n",
    "The secret api key is a must-have to access the data. \n",
    "Please replace the code in the below cell to:\n",
    "\n",
    "```api_key = <secret_key_that_was_shared_in_the_email>```"
   ]
  },
  {
   "cell_type": "code",
   "execution_count": 2,
   "id": "446199c1",
   "metadata": {},
   "outputs": [],
   "source": [
    "# find .env automagically by walking up directories until it's found\n",
    "dotenv_path = find_dotenv()\n",
    "# load up the entries as environment variables\n",
    "load_dotenv(dotenv_path)\n",
    "\n",
    "api_key = os.environ.get(\"SECRET_API_KEY\")"
   ]
  },
  {
   "cell_type": "markdown",
   "id": "9bf16262",
   "metadata": {},
   "source": [
    "#### Get metadata"
   ]
  },
  {
   "cell_type": "code",
   "execution_count": 3,
   "id": "82c0e062",
   "metadata": {},
   "outputs": [],
   "source": [
    "var_metadata = client.get_variable_metadata(api_key=api_key, \n",
    "                                variable_name=\"population\",\n",
    "                                country_code=\"ES\"\n",
    "                                )"
   ]
  },
  {
   "cell_type": "code",
   "execution_count": 4,
   "id": "7f7221f0",
   "metadata": {},
   "outputs": [
    {
     "data": {
      "text/plain": [
       "{'var_name': 'population',\n",
       " 'var_description': None,\n",
       " 'var_unit': 'number',\n",
       " 'var_aggregation_method': 'sum',\n",
       " 'taggings': [{'tag_dimension': 'sector', 'tag_name': 'general stat'},\n",
       "  {'tag_dimension': 'type', 'tag_name': 'stock'},\n",
       "  {'tag_dimension': 'commodity', 'tag_name': 'not applicable'},\n",
       "  {'tag_dimension': 'resource', 'tag_name': 'not applicable'},\n",
       "  {'tag_dimension': 'link', 'tag_name': 'not applicable'},\n",
       "  {'tag_dimension': 'other', 'tag_name': 'total'}]}"
      ]
     },
     "execution_count": 4,
     "metadata": {},
     "output_type": "execute_result"
    }
   ],
   "source": [
    "var_metadata"
   ]
  },
  {
   "cell_type": "markdown",
   "id": "3b4ebce9",
   "metadata": {},
   "source": [
    "#### Get data"
   ]
  },
  {
   "cell_type": "code",
   "execution_count": 5,
   "id": "73caf789",
   "metadata": {},
   "outputs": [
    {
     "name": "stdout",
     "output_type": "stream",
     "text": [
      "http://data.localised-project.eu/dsp/v1/variable_data/?api_key=BpY.8TzqJ&country=ES&resolution=LAU&variable=population\n",
      "http://data.localised-project.eu/dsp/v1/variable_data/?api_key=BpY.8TzqJ&country=ES&page=2&resolution=LAU&variable=population\n",
      "http://data.localised-project.eu/dsp/v1/variable_data/?api_key=BpY.8TzqJ&country=ES&page=3&resolution=LAU&variable=population\n",
      "http://data.localised-project.eu/dsp/v1/variable_data/?api_key=BpY.8TzqJ&country=ES&page=4&resolution=LAU&variable=population\n",
      "http://data.localised-project.eu/dsp/v1/variable_data/?api_key=BpY.8TzqJ&country=ES&page=5&resolution=LAU&variable=population\n"
     ]
    },
    {
     "name": "stderr",
     "output_type": "stream",
     "text": [
      "INFO:utils:Elapsed time for <function get_variable_data at 0x000001CDB84A1360>: 0.12 minutes\n"
     ]
    }
   ],
   "source": [
    "result_data = client.get_variable_data(api_key=api_key, \n",
    "                                variable_name=\"population\",\n",
    "                                country_code=\"ES\",\n",
    "                                spatial_resolution=\"LAU\",\n",
    "                                result_format=\"df\",\n",
    "                                      )"
   ]
  },
  {
   "cell_type": "code",
   "execution_count": 6,
   "id": "c44bd695",
   "metadata": {},
   "outputs": [
    {
     "data": {
      "text/html": [
       "<div>\n",
       "<style scoped>\n",
       "    .dataframe tbody tr th:only-of-type {\n",
       "        vertical-align: middle;\n",
       "    }\n",
       "\n",
       "    .dataframe tbody tr th {\n",
       "        vertical-align: top;\n",
       "    }\n",
       "\n",
       "    .dataframe thead th {\n",
       "        text-align: right;\n",
       "    }\n",
       "</style>\n",
       "<table border=\"1\" class=\"dataframe\">\n",
       "  <thead>\n",
       "    <tr style=\"text-align: right;\">\n",
       "      <th></th>\n",
       "      <th>value</th>\n",
       "      <th>year</th>\n",
       "      <th>region_code</th>\n",
       "      <th>pathway_file_name</th>\n",
       "      <th>climate_experiment</th>\n",
       "      <th>quality_rating</th>\n",
       "    </tr>\n",
       "  </thead>\n",
       "  <tbody>\n",
       "    <tr>\n",
       "      <th>0</th>\n",
       "      <td>95985.51</td>\n",
       "      <td>2020</td>\n",
       "      <td>ES431_06015</td>\n",
       "      <td>None</td>\n",
       "      <td>None</td>\n",
       "      <td>MEDIUM</td>\n",
       "    </tr>\n",
       "    <tr>\n",
       "      <th>1</th>\n",
       "      <td>73681.51</td>\n",
       "      <td>2020</td>\n",
       "      <td>ES431_06095</td>\n",
       "      <td>None</td>\n",
       "      <td>None</td>\n",
       "      <td>MEDIUM</td>\n",
       "    </tr>\n",
       "    <tr>\n",
       "      <th>2</th>\n",
       "      <td>57600.62</td>\n",
       "      <td>2020</td>\n",
       "      <td>ES431_06128</td>\n",
       "      <td>None</td>\n",
       "      <td>None</td>\n",
       "      <td>MEDIUM</td>\n",
       "    </tr>\n",
       "    <tr>\n",
       "      <th>3</th>\n",
       "      <td>55017.64</td>\n",
       "      <td>2020</td>\n",
       "      <td>ES431_06005</td>\n",
       "      <td>None</td>\n",
       "      <td>None</td>\n",
       "      <td>MEDIUM</td>\n",
       "    </tr>\n",
       "    <tr>\n",
       "      <th>4</th>\n",
       "      <td>60628.41</td>\n",
       "      <td>2020</td>\n",
       "      <td>ES431_06143</td>\n",
       "      <td>None</td>\n",
       "      <td>None</td>\n",
       "      <td>MEDIUM</td>\n",
       "    </tr>\n",
       "    <tr>\n",
       "      <th>...</th>\n",
       "      <td>...</td>\n",
       "      <td>...</td>\n",
       "      <td>...</td>\n",
       "      <td>...</td>\n",
       "      <td>...</td>\n",
       "      <td>...</td>\n",
       "    </tr>\n",
       "    <tr>\n",
       "      <th>38</th>\n",
       "      <td>50798.52</td>\n",
       "      <td>2020</td>\n",
       "      <td>ES425_45196</td>\n",
       "      <td>None</td>\n",
       "      <td>None</td>\n",
       "      <td>MEDIUM</td>\n",
       "    </tr>\n",
       "    <tr>\n",
       "      <th>39</th>\n",
       "      <td>52498.38</td>\n",
       "      <td>2020</td>\n",
       "      <td>ES425_45197</td>\n",
       "      <td>None</td>\n",
       "      <td>None</td>\n",
       "      <td>MEDIUM</td>\n",
       "    </tr>\n",
       "    <tr>\n",
       "      <th>40</th>\n",
       "      <td>53063.38</td>\n",
       "      <td>2020</td>\n",
       "      <td>ES425_45198</td>\n",
       "      <td>None</td>\n",
       "      <td>None</td>\n",
       "      <td>MEDIUM</td>\n",
       "    </tr>\n",
       "    <tr>\n",
       "      <th>41</th>\n",
       "      <td>48300.34</td>\n",
       "      <td>2020</td>\n",
       "      <td>ES425_45204</td>\n",
       "      <td>None</td>\n",
       "      <td>None</td>\n",
       "      <td>MEDIUM</td>\n",
       "    </tr>\n",
       "    <tr>\n",
       "      <th>42</th>\n",
       "      <td>55398.57</td>\n",
       "      <td>2020</td>\n",
       "      <td>ES425_45901</td>\n",
       "      <td>None</td>\n",
       "      <td>None</td>\n",
       "      <td>MEDIUM</td>\n",
       "    </tr>\n",
       "  </tbody>\n",
       "</table>\n",
       "<p>8043 rows × 6 columns</p>\n",
       "</div>"
      ],
      "text/plain": [
       "       value  year  region_code pathway_file_name climate_experiment  \\\n",
       "0   95985.51  2020  ES431_06015              None               None   \n",
       "1   73681.51  2020  ES431_06095              None               None   \n",
       "2   57600.62  2020  ES431_06128              None               None   \n",
       "3   55017.64  2020  ES431_06005              None               None   \n",
       "4   60628.41  2020  ES431_06143              None               None   \n",
       "..       ...   ...          ...               ...                ...   \n",
       "38  50798.52  2020  ES425_45196              None               None   \n",
       "39  52498.38  2020  ES425_45197              None               None   \n",
       "40  53063.38  2020  ES425_45198              None               None   \n",
       "41  48300.34  2020  ES425_45204              None               None   \n",
       "42  55398.57  2020  ES425_45901              None               None   \n",
       "\n",
       "   quality_rating  \n",
       "0          MEDIUM  \n",
       "1          MEDIUM  \n",
       "2          MEDIUM  \n",
       "3          MEDIUM  \n",
       "4          MEDIUM  \n",
       "..            ...  \n",
       "38         MEDIUM  \n",
       "39         MEDIUM  \n",
       "40         MEDIUM  \n",
       "41         MEDIUM  \n",
       "42         MEDIUM  \n",
       "\n",
       "[8043 rows x 6 columns]"
      ]
     },
     "execution_count": 6,
     "metadata": {},
     "output_type": "execute_result"
    }
   ],
   "source": [
    "result_data"
   ]
  },
  {
   "cell_type": "code",
   "execution_count": null,
   "id": "64ad1a22",
   "metadata": {},
   "outputs": [],
   "source": []
  }
 ],
 "metadata": {
  "kernelspec": {
   "display_name": "Python 3 (ipykernel)",
   "language": "python",
   "name": "python3"
  },
  "language_info": {
   "codemirror_mode": {
    "name": "ipython",
    "version": 3
   },
   "file_extension": ".py",
   "mimetype": "text/x-python",
   "name": "python",
   "nbconvert_exporter": "python",
   "pygments_lexer": "ipython3",
   "version": "3.10.13"
  }
 },
 "nbformat": 4,
 "nbformat_minor": 5
}
