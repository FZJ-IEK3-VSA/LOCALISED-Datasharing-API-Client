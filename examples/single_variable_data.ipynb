{
 "cells": [
  {
   "cell_type": "markdown",
   "id": "7e705812",
   "metadata": {},
   "source": [
    "### Example script - shows how to use this API client to access a single variable data for all regions at a specified resolution, in a specified country."
   ]
  },
  {
   "cell_type": "markdown",
   "id": "b04c93ca",
   "metadata": {},
   "source": [
    "#### Load required libraries"
   ]
  },
  {
   "cell_type": "code",
   "execution_count": null,
   "id": "30e6e6e9",
   "metadata": {},
   "outputs": [],
   "source": [
    "from zoomin_client import client"
   ]
  },
  {
   "cell_type": "markdown",
   "id": "9bf16262",
   "metadata": {},
   "source": [
    "#### Get metadata"
   ]
  },
  {
   "cell_type": "code",
   "execution_count": null,
   "id": "82c0e062",
   "metadata": {},
   "outputs": [],
   "source": [
    "var_metadata = client.get_variable_metadata(country_code=\"de\",\n",
    "                                            result_format=\"df\"\n",
    "                                )\n",
    "\n",
    "#NOTE: to filter on a particular variable, use \"variable\" parameter"
   ]
  },
  {
   "cell_type": "code",
   "execution_count": null,
   "id": "7f7221f0",
   "metadata": {},
   "outputs": [],
   "source": [
    "var_metadata"
   ]
  },
  {
   "cell_type": "markdown",
   "id": "65135065",
   "metadata": {},
   "source": [
    "#### Get proxy details"
   ]
  },
  {
   "cell_type": "code",
   "execution_count": null,
   "id": "3446cfef",
   "metadata": {},
   "outputs": [],
   "source": [
    "proxy_details = client.get_proxy_details(country_code=\"de\",\n",
    "                                            variable=\"population\"\n",
    "                                )"
   ]
  },
  {
   "cell_type": "code",
   "execution_count": null,
   "id": "cdad7faf",
   "metadata": {},
   "outputs": [],
   "source": [
    "proxy_details"
   ]
  },
  {
   "cell_type": "markdown",
   "id": "498f01c8",
   "metadata": {},
   "source": [
    "#### Get data"
   ]
  },
  {
   "cell_type": "code",
   "execution_count": null,
   "id": "73caf789",
   "metadata": {},
   "outputs": [],
   "source": [
    "result_data = client.get_variable_data(country_code=\"de\",\n",
    "                                variable=\"population\",\n",
    "                                spatial_resolution=\"LAU\",\n",
    "                                result_format=\"df\",\n",
    "                                      )"
   ]
  },
  {
   "cell_type": "code",
   "execution_count": null,
   "id": "c44bd695",
   "metadata": {},
   "outputs": [],
   "source": [
    "result_data"
   ]
  },
  {
   "cell_type": "markdown",
   "id": "a7f28b86",
   "metadata": {},
   "source": [
    "#### Get EUCalc data - filtered on a single pathway"
   ]
  },
  {
   "cell_type": "code",
   "execution_count": null,
   "id": "64ad1a22",
   "metadata": {},
   "outputs": [],
   "source": [
    "result_data = client.get_variable_data(country_code=\"de\",\n",
    "                                variable=\"eucalc_agr_co2e_liv_treated_meat_oth_animals_ei\",\n",
    "                                pathway_description=\"national\",\n",
    "                                spatial_resolution=\"NUTS3\",\n",
    "                                result_format=\"df\",\n",
    "                                      )\n"
   ]
  },
  {
   "cell_type": "code",
   "execution_count": null,
   "id": "b63b98d0",
   "metadata": {},
   "outputs": [],
   "source": [
    "result_data"
   ]
  },
  {
   "cell_type": "markdown",
   "id": "edc1d156",
   "metadata": {},
   "source": [
    "#### Get climate data - filtered on a single climate experiment"
   ]
  },
  {
   "cell_type": "code",
   "execution_count": null,
   "id": "1c790ea8",
   "metadata": {},
   "outputs": [],
   "source": [
    "result_data = client.get_variable_data(country_code=\"de\",\n",
    "                                variable=\"cproj_annual_maximum_temperature_cooling_degree_days\",\n",
    "                                climate_experiment=\"RCP2.6\",\n",
    "                                spatial_resolution=\"NUTS3\",\n",
    "                                result_format=\"df\",\n",
    "                                      )"
   ]
  },
  {
   "cell_type": "code",
   "execution_count": null,
   "id": "9c9d8a3a",
   "metadata": {},
   "outputs": [],
   "source": [
    "result_data"
   ]
  },
  {
   "cell_type": "code",
   "execution_count": null,
   "id": "0b5e39c1",
   "metadata": {},
   "outputs": [],
   "source": []
  }
 ],
 "metadata": {
  "language_info": {
   "name": "python"
  }
 },
 "nbformat": 4,
 "nbformat_minor": 5
}
