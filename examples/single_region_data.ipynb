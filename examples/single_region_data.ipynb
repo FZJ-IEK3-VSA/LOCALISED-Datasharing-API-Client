{
 "cells": [
  {
   "cell_type": "markdown",
   "id": "901317a8",
   "metadata": {},
   "source": [
    "### Example script - shows how to use this API client to access a all variables' data for a single region at a specified resolution, in a specified country."
   ]
  },
  {
   "cell_type": "markdown",
   "id": "6c945cff",
   "metadata": {},
   "source": [
    "#### Load required libraries"
   ]
  },
  {
   "cell_type": "code",
   "execution_count": null,
   "id": "4cb92d26",
   "metadata": {},
   "outputs": [],
   "source": [
    "import os\n",
    "from dotenv import load_dotenv, find_dotenv\n",
    "from zoomin_client import client"
   ]
  },
  {
   "cell_type": "markdown",
   "id": "6adb36c7",
   "metadata": {},
   "source": [
    "#### Declare api_key variable\n",
    "The secret api key is a must-have to access the data. \n",
    "Please replace the code in the below cell to:\n",
    "\n",
    "```api_key = <secret_key_that_was_shared_in_the_email>```"
   ]
  },
  {
   "cell_type": "code",
   "execution_count": null,
   "id": "d0c2beef",
   "metadata": {},
   "outputs": [],
   "source": [
    "# find .env automagically by walking up directories until it's found\n",
    "dotenv_path = find_dotenv()\n",
    "# load up the entries as environment variables\n",
    "load_dotenv(dotenv_path)\n",
    "\n",
    "api_key = os.environ.get(\"SECRET_API_KEY\")"
   ]
  },
  {
   "cell_type": "markdown",
   "id": "02643332",
   "metadata": {},
   "source": [
    "#### Get metadata"
   ]
  },
  {
   "cell_type": "code",
   "execution_count": null,
   "id": "bf15db85",
   "metadata": {},
   "outputs": [],
   "source": [
    "# list of regions\n",
    "region_list = client.get_region_metadata(api_key=api_key, \n",
    "                                spatial_resolution=\"LAU\",\n",
    "                                country_code = \"DE\"\n",
    "                                )"
   ]
  },
  {
   "cell_type": "code",
   "execution_count": null,
   "id": "ec83e661",
   "metadata": {},
   "outputs": [],
   "source": [
    "region_list"
   ]
  },
  {
   "cell_type": "code",
   "execution_count": null,
   "id": "da9a5a25",
   "metadata": {},
   "outputs": [],
   "source": [
    "# single region\n",
    "single_region = client.get_region_metadata(api_key=api_key, \n",
    "                                spatial_resolution=\"LAU\",\n",
    "                                country_code = \"DE\",\n",
    "                                region_code = \"DE600_02000000\"\n",
    "                                )"
   ]
  },
  {
   "cell_type": "code",
   "execution_count": null,
   "id": "01229f87",
   "metadata": {},
   "outputs": [],
   "source": [
    "single_region"
   ]
  },
  {
   "cell_type": "markdown",
   "id": "e7774b86",
   "metadata": {},
   "source": [
    "#### Get data"
   ]
  },
  {
   "cell_type": "code",
   "execution_count": null,
   "id": "0bdec9ab",
   "metadata": {},
   "outputs": [],
   "source": [
    "# All data\n",
    "region_data = client.get_region_data(api_key=api_key, \n",
    "                                region_code = \"DE600_02000000\",\n",
    "                                mini_version=True\n",
    "                                )\n",
    "#NOTE: Set mini_version to False to get all fields "
   ]
  },
  {
   "cell_type": "code",
   "execution_count": null,
   "id": "6c32b11a",
   "metadata": {},
   "outputs": [],
   "source": [
    "region_data"
   ]
  },
  {
   "cell_type": "code",
   "execution_count": null,
   "metadata": {},
   "outputs": [],
   "source": [
    "# single variable\n",
    "region_data_single_var = client.get_region_data(api_key=api_key, \n",
    "                                region_code = \"DE711_06411000\",\n",
    "                                variable_name= \"population\",\n",
    "                                mini_version=False\n",
    "                                )\n",
    "#NOTE: single variable is only possible for full version at the moment. This should be fixed in the next release"
   ]
  },
  {
   "cell_type": "code",
   "execution_count": null,
   "id": "0c8d1816",
   "metadata": {},
   "outputs": [],
   "source": [
    "region_data_single_var"
   ]
  },
  {
   "cell_type": "code",
   "execution_count": null,
   "id": "02d39431",
   "metadata": {},
   "outputs": [],
   "source": []
  }
 ],
 "metadata": {
  "kernelspec": {
   "display_name": "Python 3 (ipykernel)",
   "language": "python",
   "name": "python3"
  },
  "language_info": {
   "codemirror_mode": {
    "name": "ipython",
    "version": 3
   },
   "file_extension": ".py",
   "mimetype": "text/x-python",
   "name": "python",
   "nbconvert_exporter": "python",
   "pygments_lexer": "ipython3",
   "version": "3.10.13"
  }
 },
 "nbformat": 4,
 "nbformat_minor": 5
}
