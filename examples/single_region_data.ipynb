{
 "cells": [
  {
   "cell_type": "markdown",
   "id": "901317a8",
   "metadata": {},
   "source": [
    "### Example script - shows how to use this API client to access all variables' data for a single region at a specified resolution, in a specified country."
   ]
  },
  {
   "cell_type": "markdown",
   "id": "6c945cff",
   "metadata": {},
   "source": [
    "#### Load required libraries"
   ]
  },
  {
   "cell_type": "code",
   "execution_count": null,
   "id": "4cb92d26",
   "metadata": {},
   "outputs": [],
   "source": [
    "from zoomin_client import client"
   ]
  },
  {
   "cell_type": "markdown",
   "id": "02643332",
   "metadata": {},
   "source": [
    "#### Get metadata"
   ]
  },
  {
   "cell_type": "code",
   "execution_count": null,
   "id": "bf15db85",
   "metadata": {},
   "outputs": [],
   "source": [
    "# list of regions\n",
    "region_list = client.get_region_metadata(country_code = \"at\",\n",
    "                                        spatial_resolution=\"NUTS3\",\n",
    "                                )"
   ]
  },
  {
   "cell_type": "code",
   "execution_count": null,
   "id": "ec83e661",
   "metadata": {},
   "outputs": [],
   "source": [
    "region_list"
   ]
  },
  {
   "cell_type": "code",
   "execution_count": null,
   "id": "da9a5a25",
   "metadata": {},
   "outputs": [],
   "source": [
    "# single region\n",
    "single_region = client.get_region_metadata(country_code = \"at\",\n",
    "                                spatial_resolution=\"NUTS3\",\n",
    "                                region_code = \"AT111\"\n",
    "                                )"
   ]
  },
  {
   "cell_type": "code",
   "execution_count": null,
   "id": "01229f87",
   "metadata": {},
   "outputs": [],
   "source": [
    "single_region"
   ]
  },
  {
   "cell_type": "markdown",
   "id": "e7774b86",
   "metadata": {},
   "source": [
    "#### Get data - no filters"
   ]
  },
  {
   "cell_type": "code",
   "execution_count": null,
   "id": "0bdec9ab",
   "metadata": {},
   "outputs": [],
   "source": [
    "# All data\n",
    "region_data = client.get_region_data(country_code = \"DE\",\n",
    "                                region_code = \"DEA12\",\n",
    "                                mini_version=False,\n",
    "                                result_format = \"df\"\n",
    "                                )\n",
    "#NOTE: Set mini_version to False to get all fields "
   ]
  },
  {
   "cell_type": "markdown",
   "id": "eaf1c3af",
   "metadata": {},
   "source": [
    "#### Get data - filter on variable"
   ]
  },
  {
   "cell_type": "code",
   "execution_count": null,
   "id": "4aec5bc0",
   "metadata": {},
   "outputs": [],
   "source": [
    "region_data_single_var = client.get_region_data(country_code = \"de\",\n",
    "                                                region_code = \"DE21\",\n",
    "                                                variable= \"eucalc_tra_energy_demand_passenger_aviation\",\n",
    "                                                )"
   ]
  },
  {
   "cell_type": "code",
   "execution_count": null,
   "id": "0c8d1816",
   "metadata": {},
   "outputs": [],
   "source": [
    "region_data_single_var\n"
   ]
  },
  {
   "cell_type": "markdown",
   "id": "54693162",
   "metadata": {},
   "source": [
    "#### Get data - filter on pathway\n",
    "\n",
    "NOTE: provides all data. Only the EUCalc data is filtered on the given pathway"
   ]
  },
  {
   "cell_type": "code",
   "execution_count": null,
   "id": "02d39431",
   "metadata": {},
   "outputs": [],
   "source": [
    "region_data_single_pathway = client.get_region_data(country_code = \"de\",\n",
    "                                                region_code = \"DE711\",\n",
    "                                                pathway_description = \"with_behavioural_changes\"\n",
    "                                                )"
   ]
  },
  {
   "cell_type": "code",
   "execution_count": null,
   "id": "06d78849",
   "metadata": {},
   "outputs": [],
   "source": [
    "region_data_single_pathway"
   ]
  },
  {
   "cell_type": "markdown",
   "id": "2fba8da2",
   "metadata": {},
   "source": [
    "#### Get data - filter on climate experiment\n",
    "\n",
    "NOTE: provides all data. Only the climate data is filtered on the given climate_experiment"
   ]
  },
  {
   "cell_type": "code",
   "execution_count": null,
   "id": "904d1c3d",
   "metadata": {},
   "outputs": [],
   "source": [
    "region_data_single_clm_expt = client.get_region_data(country_code = \"de\",\n",
    "                                                region_code = \"DE711\",\n",
    "                                                pathway_description = \"national\",\n",
    "                                                climate_experiment = \"RCP4.5\"\n",
    "                                                )"
   ]
  },
  {
   "cell_type": "code",
   "execution_count": null,
   "id": "571e2b95",
   "metadata": {},
   "outputs": [],
   "source": [
    "region_data_single_clm_expt"
   ]
  },
  {
   "cell_type": "markdown",
   "id": "1b69ee8c",
   "metadata": {},
   "source": [
    "#### Get data - filter on climate experiment and pathway\n",
    "\n",
    "NOTE: provides all data. Only the climate data is filtered on the given climate_experiment and EUCalc data on the given pathway"
   ]
  },
  {
   "cell_type": "code",
   "execution_count": null,
   "id": "5b0515a0",
   "metadata": {},
   "outputs": [],
   "source": [
    "region_data_minimal_set = client.get_region_data(country_code = \"de\",\n",
    "                                                region_code = \"DE711\",\n",
    "                                                climate_experiment = \"RCP4.5\",\n",
    "                                                pathway_description=\"with_behavioural_changes\"\n",
    "                                                )"
   ]
  },
  {
   "cell_type": "code",
   "execution_count": null,
   "id": "989769b1",
   "metadata": {},
   "outputs": [],
   "source": [
    "region_data_minimal_set"
   ]
  },
  {
   "cell_type": "code",
   "execution_count": null,
   "id": "c5e9e1be",
   "metadata": {},
   "outputs": [],
   "source": []
  }
 ],
 "metadata": {
  "language_info": {
   "name": "python"
  }
 },
 "nbformat": 4,
 "nbformat_minor": 5
}
