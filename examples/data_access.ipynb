{
 "cells": [
  {
   "cell_type": "markdown",
   "id": "21b7f55f",
   "metadata": {},
   "source": [
    "### Example script - shows how to use this API client to access data"
   ]
  },
  {
   "cell_type": "markdown",
   "id": "c1a5a21b",
   "metadata": {},
   "source": [
    "#### Load required libraries"
   ]
  },
  {
   "cell_type": "code",
   "execution_count": 1,
   "id": "40367b89",
   "metadata": {},
   "outputs": [],
   "source": [
    "import os\n",
    "from dotenv import load_dotenv, find_dotenv\n",
    "from zoomin_client import client"
   ]
  },
  {
   "cell_type": "markdown",
   "id": "7d1a0a65",
   "metadata": {},
   "source": [
    "#### Declare api_key variable\n",
    "The secret api key is a must-have to access the data. \n",
    "Please replace the code in the below cell to:\n",
    "\n",
    "```api_key = <secret_key_that_was_shared_in_the_email>```"
   ]
  },
  {
   "cell_type": "code",
   "execution_count": 2,
   "id": "7c956f2f",
   "metadata": {},
   "outputs": [],
   "source": [
    "# find .env automagically by walking up directories until it's found\n",
    "dotenv_path = find_dotenv()\n",
    "# load up the entries as environment variables\n",
    "load_dotenv(dotenv_path)\n",
    "\n",
    "api_key = os.environ.get(\"SECRET_API_KEY\")"
   ]
  },
  {
   "cell_type": "markdown",
   "id": "2b4b76ad",
   "metadata": {},
   "source": [
    "#### Get list of regions\n",
    "\n",
    "The below code fetches you the regions in a dataframe. You can alternatively get it in a json format. \n",
    "\n",
    "The function also allows you to save the data in a json or csv file. Please refer to the function documentation for more information on this."
   ]
  },
  {
   "cell_type": "code",
   "execution_count": 5,
   "id": "68ec5938",
   "metadata": {},
   "outputs": [],
   "source": [
    "response_data = client.get_regions(api_key=api_key, \n",
    "                                   spatial_resolution='NUTS0',\n",
    "                                  result_format=\"df\")"
   ]
  },
  {
   "cell_type": "markdown",
   "id": "7df84969",
   "metadata": {},
   "source": [
    "#### Get region data\n",
    "\n",
    "The below code fetches you the data of a region in a dataframe. You can alternatively get it in a json format. \n",
    "\n",
    "The function also allows you to save the data in a json or csv file. Please refer to the function documentation for more information on this."
   ]
  },
  {
   "cell_type": "code",
   "execution_count": 7,
   "id": "97bab07e",
   "metadata": {},
   "outputs": [],
   "source": [
    "response_data = client.get_region_data(api_key=api_key, \n",
    "                                       spatial_resolution='NUTS3', \n",
    "                                       region_code='DEA12',\n",
    "                                       result_format='df')"
   ]
  }
 ],
 "metadata": {
  "kernelspec": {
   "display_name": "Python 3 (ipykernel)",
   "language": "python",
   "name": "python3"
  },
  "language_info": {
   "codemirror_mode": {
    "name": "ipython",
    "version": 3
   },
   "file_extension": ".py",
   "mimetype": "text/x-python",
   "name": "python",
   "nbconvert_exporter": "python",
   "pygments_lexer": "ipython3",
   "version": "3.10.4"
  }
 },
 "nbformat": 4,
 "nbformat_minor": 5
}
