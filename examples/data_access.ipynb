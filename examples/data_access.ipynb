{
 "cells": [
  {
   "cell_type": "code",
   "execution_count": null,
   "id": "40367b89",
   "metadata": {},
   "outputs": [],
   "source": [
    "import os\n",
    "from dotenv import load_dotenv, find_dotenv\n",
    "from zoomin_client import client"
   ]
  },
  {
   "cell_type": "code",
   "execution_count": null,
   "id": "7c956f2f",
   "metadata": {},
   "outputs": [],
   "source": [
    "# find .env automagically by walking up directories until it's found\n",
    "dotenv_path = find_dotenv()\n",
    "# load up the entries as environment variables\n",
    "load_dotenv(dotenv_path)\n",
    "\n",
    "api_key = os.environ.get(\"SECRET_API_KEY\")"
   ]
  },
  {
   "cell_type": "code",
   "execution_count": null,
   "id": "68ec5938",
   "metadata": {},
   "outputs": [],
   "source": [
    "response_data = client.get_regions(api_key=api_key, spatial_resolution='NUTS0')"
   ]
  },
  {
   "cell_type": "code",
   "execution_count": null,
   "id": "97bab07e",
   "metadata": {},
   "outputs": [],
   "source": [
    "response_data = client.get_region_data(api_key=api_key, spatial_resolution='NUTS3', region_code='DEA12')"
   ]
  }
 ],
 "metadata": {
  "kernelspec": {
   "display_name": "Python 3 (ipykernel)",
   "language": "python",
   "name": "python3"
  },
  "language_info": {
   "codemirror_mode": {
    "name": "ipython",
    "version": 3
   },
   "file_extension": ".py",
   "mimetype": "text/x-python",
   "name": "python",
   "nbconvert_exporter": "python",
   "pygments_lexer": "ipython3",
   "version": "3.10.4"
  }
 },
 "nbformat": 4,
 "nbformat_minor": 5
}
