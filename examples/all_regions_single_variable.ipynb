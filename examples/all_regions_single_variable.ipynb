{
 "cells": [
  {
   "cell_type": "markdown",
   "id": "7e705812",
   "metadata": {},
   "source": [
    "### Example script - shows how to use this API client to access a single variable data for all regions at a specified resolution, in a specified country."
   ]
  },
  {
   "cell_type": "markdown",
   "id": "b04c93ca",
   "metadata": {},
   "source": [
    "#### Load required libraries"
   ]
  },
  {
   "cell_type": "code",
   "execution_count": 1,
   "id": "30e6e6e9",
   "metadata": {},
   "outputs": [],
   "source": [
    "import os\n",
    "from dotenv import load_dotenv, find_dotenv\n",
    "from zoomin_client import client"
   ]
  },
  {
   "cell_type": "markdown",
   "id": "91f100b5",
   "metadata": {},
   "source": [
    "#### Declare api_key variable\n",
    "The secret api key is a must-have to access the data. \n",
    "Please replace the code in the below cell to:\n",
    "\n",
    "```api_key = <secret_key_that_was_shared_in_the_email>```"
   ]
  },
  {
   "cell_type": "code",
   "execution_count": 2,
   "id": "446199c1",
   "metadata": {},
   "outputs": [],
   "source": [
    "# find .env automagically by walking up directories until it's found\n",
    "dotenv_path = find_dotenv()\n",
    "# load up the entries as environment variables\n",
    "load_dotenv(dotenv_path)\n",
    "\n",
    "api_key = os.environ.get(\"SECRET_API_KEY\")"
   ]
  },
  {
   "cell_type": "markdown",
   "id": "9bf16262",
   "metadata": {},
   "source": [
    "#### Get metadata"
   ]
  },
  {
   "cell_type": "code",
   "execution_count": 3,
   "id": "82c0e062",
   "metadata": {},
   "outputs": [],
   "source": [
    "var_metadata = client.get_variable_metadata(api_key=api_key, \n",
    "                                variable_name=\"population\",\n",
    "                                country_code=\"ES\",\n",
    "                                spatial_resolution=\"LAU\",\n",
    "                                )"
   ]
  },
  {
   "cell_type": "markdown",
   "id": "3b4ebce9",
   "metadata": {},
   "source": [
    "#### Get data"
   ]
  },
  {
   "cell_type": "code",
   "execution_count": 4,
   "id": "73caf789",
   "metadata": {},
   "outputs": [
    {
     "name": "stdout",
     "output_type": "stream",
     "text": [
      "http://data.localised-project.eu/dsp/v1/variable_data/?api_key=BpY.8TzqJ&country=ES&resolution=LAU&variable=population\n"
     ]
    },
    {
     "ename": "JSONDecodeError",
     "evalue": "Expecting value: line 1 column 1 (char 0)",
     "output_type": "error",
     "traceback": [
      "\u001b[1;31m---------------------------------------------------------------------------\u001b[0m",
      "\u001b[1;31mJSONDecodeError\u001b[0m                           Traceback (most recent call last)",
      "File \u001b[1;32mc:\\Users\\s.patil\\AppData\\Local\\anaconda3\\envs\\dsp_client\\lib\\site-packages\\requests\\models.py:971\u001b[0m, in \u001b[0;36mResponse.json\u001b[1;34m(self, **kwargs)\u001b[0m\n\u001b[0;32m    970\u001b[0m \u001b[39mtry\u001b[39;00m:\n\u001b[1;32m--> 971\u001b[0m     \u001b[39mreturn\u001b[39;00m complexjson\u001b[39m.\u001b[39mloads(\u001b[39mself\u001b[39m\u001b[39m.\u001b[39mtext, \u001b[39m*\u001b[39m\u001b[39m*\u001b[39mkwargs)\n\u001b[0;32m    972\u001b[0m \u001b[39mexcept\u001b[39;00m JSONDecodeError \u001b[39mas\u001b[39;00m e:\n\u001b[0;32m    973\u001b[0m     \u001b[39m# Catch JSON-related errors and raise as requests.JSONDecodeError\u001b[39;00m\n\u001b[0;32m    974\u001b[0m     \u001b[39m# This aliases json.JSONDecodeError and simplejson.JSONDecodeError\u001b[39;00m\n",
      "File \u001b[1;32mc:\\Users\\s.patil\\AppData\\Local\\anaconda3\\envs\\dsp_client\\lib\\json\\__init__.py:346\u001b[0m, in \u001b[0;36mloads\u001b[1;34m(s, cls, object_hook, parse_float, parse_int, parse_constant, object_pairs_hook, **kw)\u001b[0m\n\u001b[0;32m    343\u001b[0m \u001b[39mif\u001b[39;00m (\u001b[39mcls\u001b[39m \u001b[39mis\u001b[39;00m \u001b[39mNone\u001b[39;00m \u001b[39mand\u001b[39;00m object_hook \u001b[39mis\u001b[39;00m \u001b[39mNone\u001b[39;00m \u001b[39mand\u001b[39;00m\n\u001b[0;32m    344\u001b[0m         parse_int \u001b[39mis\u001b[39;00m \u001b[39mNone\u001b[39;00m \u001b[39mand\u001b[39;00m parse_float \u001b[39mis\u001b[39;00m \u001b[39mNone\u001b[39;00m \u001b[39mand\u001b[39;00m\n\u001b[0;32m    345\u001b[0m         parse_constant \u001b[39mis\u001b[39;00m \u001b[39mNone\u001b[39;00m \u001b[39mand\u001b[39;00m object_pairs_hook \u001b[39mis\u001b[39;00m \u001b[39mNone\u001b[39;00m \u001b[39mand\u001b[39;00m \u001b[39mnot\u001b[39;00m kw):\n\u001b[1;32m--> 346\u001b[0m     \u001b[39mreturn\u001b[39;00m _default_decoder\u001b[39m.\u001b[39;49mdecode(s)\n\u001b[0;32m    347\u001b[0m \u001b[39mif\u001b[39;00m \u001b[39mcls\u001b[39m \u001b[39mis\u001b[39;00m \u001b[39mNone\u001b[39;00m:\n",
      "File \u001b[1;32mc:\\Users\\s.patil\\AppData\\Local\\anaconda3\\envs\\dsp_client\\lib\\json\\decoder.py:337\u001b[0m, in \u001b[0;36mJSONDecoder.decode\u001b[1;34m(self, s, _w)\u001b[0m\n\u001b[0;32m    333\u001b[0m \u001b[39m\u001b[39m\u001b[39m\"\"\"Return the Python representation of ``s`` (a ``str`` instance\u001b[39;00m\n\u001b[0;32m    334\u001b[0m \u001b[39mcontaining a JSON document).\u001b[39;00m\n\u001b[0;32m    335\u001b[0m \n\u001b[0;32m    336\u001b[0m \u001b[39m\"\"\"\u001b[39;00m\n\u001b[1;32m--> 337\u001b[0m obj, end \u001b[39m=\u001b[39m \u001b[39mself\u001b[39;49m\u001b[39m.\u001b[39;49mraw_decode(s, idx\u001b[39m=\u001b[39;49m_w(s, \u001b[39m0\u001b[39;49m)\u001b[39m.\u001b[39;49mend())\n\u001b[0;32m    338\u001b[0m end \u001b[39m=\u001b[39m _w(s, end)\u001b[39m.\u001b[39mend()\n",
      "File \u001b[1;32mc:\\Users\\s.patil\\AppData\\Local\\anaconda3\\envs\\dsp_client\\lib\\json\\decoder.py:355\u001b[0m, in \u001b[0;36mJSONDecoder.raw_decode\u001b[1;34m(self, s, idx)\u001b[0m\n\u001b[0;32m    354\u001b[0m \u001b[39mexcept\u001b[39;00m \u001b[39mStopIteration\u001b[39;00m \u001b[39mas\u001b[39;00m err:\n\u001b[1;32m--> 355\u001b[0m     \u001b[39mraise\u001b[39;00m JSONDecodeError(\u001b[39m\"\u001b[39m\u001b[39mExpecting value\u001b[39m\u001b[39m\"\u001b[39m, s, err\u001b[39m.\u001b[39mvalue) \u001b[39mfrom\u001b[39;00m \u001b[39mNone\u001b[39;00m\n\u001b[0;32m    356\u001b[0m \u001b[39mreturn\u001b[39;00m obj, end\n",
      "\u001b[1;31mJSONDecodeError\u001b[0m: Expecting value: line 1 column 1 (char 0)",
      "\nDuring handling of the above exception, another exception occurred:\n",
      "\u001b[1;31mJSONDecodeError\u001b[0m                           Traceback (most recent call last)",
      "\u001b[1;32mc:\\Users\\s.patil\\OneDrive - Forschungszentrum Jülich GmbH\\Documents\\code\\LOCALISED-Datasharing-API-Client\\examples\\all_regions_single_variable.ipynb Cell 9\u001b[0m line \u001b[0;36m1\n\u001b[1;32m----> <a href='vscode-notebook-cell:/c%3A/Users/s.patil/OneDrive%20-%20Forschungszentrum%20J%C3%BClich%20GmbH/Documents/code/LOCALISED-Datasharing-API-Client/examples/all_regions_single_variable.ipynb#X11sZmlsZQ%3D%3D?line=0'>1</a>\u001b[0m result_data \u001b[39m=\u001b[39m client\u001b[39m.\u001b[39;49mget_variable_data(api_key\u001b[39m=\u001b[39;49mapi_key, \n\u001b[0;32m      <a href='vscode-notebook-cell:/c%3A/Users/s.patil/OneDrive%20-%20Forschungszentrum%20J%C3%BClich%20GmbH/Documents/code/LOCALISED-Datasharing-API-Client/examples/all_regions_single_variable.ipynb#X11sZmlsZQ%3D%3D?line=1'>2</a>\u001b[0m                                 variable_name\u001b[39m=\u001b[39;49m\u001b[39m\"\u001b[39;49m\u001b[39mpopulation\u001b[39;49m\u001b[39m\"\u001b[39;49m,\n\u001b[0;32m      <a href='vscode-notebook-cell:/c%3A/Users/s.patil/OneDrive%20-%20Forschungszentrum%20J%C3%BClich%20GmbH/Documents/code/LOCALISED-Datasharing-API-Client/examples/all_regions_single_variable.ipynb#X11sZmlsZQ%3D%3D?line=2'>3</a>\u001b[0m                                 country_code\u001b[39m=\u001b[39;49m\u001b[39m\"\u001b[39;49m\u001b[39mES\u001b[39;49m\u001b[39m\"\u001b[39;49m,\n\u001b[0;32m      <a href='vscode-notebook-cell:/c%3A/Users/s.patil/OneDrive%20-%20Forschungszentrum%20J%C3%BClich%20GmbH/Documents/code/LOCALISED-Datasharing-API-Client/examples/all_regions_single_variable.ipynb#X11sZmlsZQ%3D%3D?line=3'>4</a>\u001b[0m                                 spatial_resolution\u001b[39m=\u001b[39;49m\u001b[39m\"\u001b[39;49m\u001b[39mLAU\u001b[39;49m\u001b[39m\"\u001b[39;49m,\n\u001b[0;32m      <a href='vscode-notebook-cell:/c%3A/Users/s.patil/OneDrive%20-%20Forschungszentrum%20J%C3%BClich%20GmbH/Documents/code/LOCALISED-Datasharing-API-Client/examples/all_regions_single_variable.ipynb#X11sZmlsZQ%3D%3D?line=4'>5</a>\u001b[0m                                 result_format\u001b[39m=\u001b[39;49m\u001b[39m\"\u001b[39;49m\u001b[39mdf\u001b[39;49m\u001b[39m\"\u001b[39;49m,\n\u001b[0;32m      <a href='vscode-notebook-cell:/c%3A/Users/s.patil/OneDrive%20-%20Forschungszentrum%20J%C3%BClich%20GmbH/Documents/code/LOCALISED-Datasharing-API-Client/examples/all_regions_single_variable.ipynb#X11sZmlsZQ%3D%3D?line=5'>6</a>\u001b[0m                                       )\n",
      "File \u001b[1;32mc:\\users\\s.patil\\onedrive - forschungszentrum jülich gmbh\\documents\\code\\localised-datasharing-api-client\\zoomin_client\\utils.py:24\u001b[0m, in \u001b[0;36mmeasure_time.<locals>._f\u001b[1;34m(*args, **kwargs)\u001b[0m\n\u001b[0;32m     19\u001b[0m \u001b[39m@wraps\u001b[39m(\n\u001b[0;32m     20\u001b[0m     func_call\n\u001b[0;32m     21\u001b[0m )  \u001b[39m# Required to get documentation for functions using this decorator\u001b[39;00m\n\u001b[0;32m     22\u001b[0m \u001b[39mdef\u001b[39;00m \u001b[39m_f\u001b[39m(\u001b[39m*\u001b[39margs: Any, \u001b[39m*\u001b[39m\u001b[39m*\u001b[39mkwargs: Any) \u001b[39m-\u001b[39m\u001b[39m>\u001b[39m Any:\n\u001b[0;32m     23\u001b[0m     before \u001b[39m=\u001b[39m time\u001b[39m.\u001b[39mperf_counter()\n\u001b[1;32m---> 24\u001b[0m     r_v \u001b[39m=\u001b[39m func_call(\u001b[39m*\u001b[39margs, \u001b[39m*\u001b[39m\u001b[39m*\u001b[39mkwargs)\n\u001b[0;32m     25\u001b[0m     after \u001b[39m=\u001b[39m time\u001b[39m.\u001b[39mperf_counter()\n\u001b[0;32m     27\u001b[0m     time_taken \u001b[39m=\u001b[39m \u001b[39mround\u001b[39m((after \u001b[39m-\u001b[39m before) \u001b[39m/\u001b[39m \u001b[39m60\u001b[39m, \u001b[39m2\u001b[39m)\n",
      "File \u001b[1;32mc:\\users\\s.patil\\onedrive - forschungszentrum jülich gmbh\\documents\\code\\localised-datasharing-api-client\\zoomin_client\\client.py:344\u001b[0m, in \u001b[0;36mget_variable_data\u001b[1;34m(api_key, variable_name, country_code, spatial_resolution, result_format, save_result, save_path, save_name)\u001b[0m\n\u001b[0;32m    342\u001b[0m \u001b[39mwhile\u001b[39;00m next_request_url \u001b[39mis\u001b[39;00m \u001b[39mnot\u001b[39;00m \u001b[39mNone\u001b[39;00m:\n\u001b[0;32m    343\u001b[0m     \u001b[39mprint\u001b[39m(next_request_url)\n\u001b[1;32m--> 344\u001b[0m     response \u001b[39m=\u001b[39m requests\u001b[39m.\u001b[39;49mget(next_request_url, stream\u001b[39m=\u001b[39;49m\u001b[39mTrue\u001b[39;49;00m, timeout\u001b[39m=\u001b[39;49m\u001b[39m240\u001b[39;49m)\u001b[39m.\u001b[39;49mjson()\n\u001b[0;32m    346\u001b[0m     next_request_url \u001b[39m=\u001b[39m response[\u001b[39m\"\u001b[39m\u001b[39mnext\u001b[39m\u001b[39m\"\u001b[39m]\n\u001b[0;32m    347\u001b[0m     response_data \u001b[39m=\u001b[39m response[\u001b[39m\"\u001b[39m\u001b[39mresults\u001b[39m\u001b[39m\"\u001b[39m]\n",
      "File \u001b[1;32mc:\\Users\\s.patil\\AppData\\Local\\anaconda3\\envs\\dsp_client\\lib\\site-packages\\requests\\models.py:975\u001b[0m, in \u001b[0;36mResponse.json\u001b[1;34m(self, **kwargs)\u001b[0m\n\u001b[0;32m    971\u001b[0m     \u001b[39mreturn\u001b[39;00m complexjson\u001b[39m.\u001b[39mloads(\u001b[39mself\u001b[39m\u001b[39m.\u001b[39mtext, \u001b[39m*\u001b[39m\u001b[39m*\u001b[39mkwargs)\n\u001b[0;32m    972\u001b[0m \u001b[39mexcept\u001b[39;00m JSONDecodeError \u001b[39mas\u001b[39;00m e:\n\u001b[0;32m    973\u001b[0m     \u001b[39m# Catch JSON-related errors and raise as requests.JSONDecodeError\u001b[39;00m\n\u001b[0;32m    974\u001b[0m     \u001b[39m# This aliases json.JSONDecodeError and simplejson.JSONDecodeError\u001b[39;00m\n\u001b[1;32m--> 975\u001b[0m     \u001b[39mraise\u001b[39;00m RequestsJSONDecodeError(e\u001b[39m.\u001b[39mmsg, e\u001b[39m.\u001b[39mdoc, e\u001b[39m.\u001b[39mpos)\n",
      "\u001b[1;31mJSONDecodeError\u001b[0m: Expecting value: line 1 column 1 (char 0)"
     ]
    }
   ],
   "source": [
    "result_data = client.get_variable_data(api_key=api_key, \n",
    "                                variable_name=\"population\",\n",
    "                                country_code=\"ES\",\n",
    "                                spatial_resolution=\"LAU\",\n",
    "                                result_format=\"df\",\n",
    "                                      )"
   ]
  },
  {
   "cell_type": "code",
   "execution_count": null,
   "id": "c44bd695",
   "metadata": {},
   "outputs": [],
   "source": []
  }
 ],
 "metadata": {
  "kernelspec": {
   "display_name": "Python 3 (ipykernel)",
   "language": "python",
   "name": "python3"
  },
  "language_info": {
   "codemirror_mode": {
    "name": "ipython",
    "version": 3
   },
   "file_extension": ".py",
   "mimetype": "text/x-python",
   "name": "python",
   "nbconvert_exporter": "python",
   "pygments_lexer": "ipython3",
   "version": "3.10.13"
  }
 },
 "nbformat": 4,
 "nbformat_minor": 5
}
