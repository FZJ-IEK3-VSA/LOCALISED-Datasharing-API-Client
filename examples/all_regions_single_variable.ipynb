{
 "cells": [
  {
   "cell_type": "markdown",
   "id": "7e705812",
   "metadata": {},
   "source": [
    "### Example script - shows how to use this API client to access a single variable data for all regions at a specified resolution, in a specified country."
   ]
  },
  {
   "cell_type": "markdown",
   "id": "b04c93ca",
   "metadata": {},
   "source": [
    "#### Load required libraries"
   ]
  },
  {
   "cell_type": "code",
   "execution_count": 1,
   "id": "30e6e6e9",
   "metadata": {},
   "outputs": [],
   "source": [
    "import os\n",
    "from dotenv import load_dotenv, find_dotenv\n",
    "from zoomin_client import client"
   ]
  },
  {
   "cell_type": "markdown",
   "id": "91f100b5",
   "metadata": {},
   "source": [
    "#### Declare api_key variable\n",
    "The secret api key is a must-have to access the data. \n",
    "Please replace the code in the below cell to:\n",
    "\n",
    "```api_key = <secret_key_that_was_shared_in_the_email>```"
   ]
  },
  {
   "cell_type": "code",
   "execution_count": 2,
   "id": "446199c1",
   "metadata": {},
   "outputs": [],
   "source": [
    "# find .env automagically by walking up directories until it's found\n",
    "dotenv_path = find_dotenv()\n",
    "# load up the entries as environment variables\n",
    "load_dotenv(dotenv_path)\n",
    "\n",
    "api_key = os.environ.get(\"SECRET_API_KEY\")"
   ]
  },
  {
   "cell_type": "markdown",
   "id": "9bf16262",
   "metadata": {},
   "source": [
    "#### Get metadata"
   ]
  },
  {
   "cell_type": "code",
   "execution_count": 3,
   "id": "82c0e062",
   "metadata": {},
   "outputs": [],
   "source": [
    "var_metadata = client.get_variable_metadata(api_key=api_key, \n",
    "                                variable_name=\"population\",\n",
    "                                country_code=\"DE\",\n",
    "                                spatial_resolution=\"LAU\",\n",
    "                                )"
   ]
  },
  {
   "cell_type": "markdown",
   "id": "3b4ebce9",
   "metadata": {},
   "source": [
    "#### Get data"
   ]
  },
  {
   "cell_type": "code",
   "execution_count": 4,
   "id": "73caf789",
   "metadata": {},
   "outputs": [
    {
     "name": "stderr",
     "output_type": "stream",
     "text": [
      "INFO:utils:Elapsed time for <function get_variable_data at 0x0000013F5757F1C0>: 0.87 minutes\n"
     ]
    }
   ],
   "source": [
    "result_data = client.get_variable_data(api_key=api_key, \n",
    "                                variable_name=\"population\",\n",
    "                                country_code=\"DE\",\n",
    "                                spatial_resolution=\"LAU\",\n",
    "                                result_format=\"df\",\n",
    "                                      )"
   ]
  },
  {
   "cell_type": "code",
   "execution_count": null,
   "id": "c44bd695",
   "metadata": {},
   "outputs": [],
   "source": []
  }
 ],
 "metadata": {
  "kernelspec": {
   "display_name": "Python 3 (ipykernel)",
   "language": "python",
   "name": "python3"
  },
  "language_info": {
   "codemirror_mode": {
    "name": "ipython",
    "version": 3
   },
   "file_extension": ".py",
   "mimetype": "text/x-python",
   "name": "python",
   "nbconvert_exporter": "python",
   "pygments_lexer": "ipython3",
   "version": "3.10.4"
  }
 },
 "nbformat": 4,
 "nbformat_minor": 5
}
